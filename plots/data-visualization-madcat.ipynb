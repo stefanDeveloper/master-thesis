{
 "cells": [
  {
   "cell_type": "markdown",
   "metadata": {},
   "source": [
    "# MADCAT"
   ]
  },
  {
   "cell_type": "markdown",
   "metadata": {},
   "source": [
    "## Subnet 129.206.218.0/24"
   ]
  },
  {
   "cell_type": "markdown",
   "metadata": {},
   "source": [
    "## Geolocation"
   ]
  },
  {
   "cell_type": "code",
   "execution_count": 2,
   "metadata": {},
   "outputs": [],
   "source": [
    "import matplotlib.pyplot as plt\n",
    "import pandas as pd\n",
    "import numpy as np\n",
    "import geopandas as gpd\n",
    "import json\n",
    "import pycountry\n",
    "import matplotlib.dates as mdates\n",
    "import time\n",
    "plt.style.use('ggplot')"
   ]
  },
  {
   "cell_type": "code",
   "execution_count": 2,
   "metadata": {},
   "outputs": [
    {
     "data": {
      "text/html": [
       "<div>\n",
       "<style scoped>\n",
       "    .dataframe tbody tr th:only-of-type {\n",
       "        vertical-align: middle;\n",
       "    }\n",
       "\n",
       "    .dataframe tbody tr th {\n",
       "        vertical-align: top;\n",
       "    }\n",
       "\n",
       "    .dataframe thead th {\n",
       "        text-align: right;\n",
       "    }\n",
       "</style>\n",
       "<table border=\"1\" class=\"dataframe\">\n",
       "  <thead>\n",
       "    <tr style=\"text-align: right;\">\n",
       "      <th></th>\n",
       "      <th>geoip.country_name.keyword: Descending</th>\n",
       "      <th>Count</th>\n",
       "      <th>iso_a3</th>\n",
       "    </tr>\n",
       "  </thead>\n",
       "  <tbody>\n",
       "    <tr>\n",
       "      <th>0</th>\n",
       "      <td>United States</td>\n",
       "      <td>10014</td>\n",
       "      <td>USA</td>\n",
       "    </tr>\n",
       "    <tr>\n",
       "      <th>1</th>\n",
       "      <td>Germany</td>\n",
       "      <td>6171</td>\n",
       "      <td>DEU</td>\n",
       "    </tr>\n",
       "    <tr>\n",
       "      <th>2</th>\n",
       "      <td>China</td>\n",
       "      <td>2032</td>\n",
       "      <td>CHN</td>\n",
       "    </tr>\n",
       "    <tr>\n",
       "      <th>3</th>\n",
       "      <td>United Kingdom</td>\n",
       "      <td>1048</td>\n",
       "      <td>GBR</td>\n",
       "    </tr>\n",
       "    <tr>\n",
       "      <th>4</th>\n",
       "      <td>France</td>\n",
       "      <td>779</td>\n",
       "      <td>FRA</td>\n",
       "    </tr>\n",
       "  </tbody>\n",
       "</table>\n",
       "</div>"
      ],
      "text/plain": [
       "  geoip.country_name.keyword: Descending  Count iso_a3\n",
       "0                          United States  10014    USA\n",
       "1                                Germany   6171    DEU\n",
       "2                                  China   2032    CHN\n",
       "3                         United Kingdom   1048    GBR\n",
       "4                                 France    779    FRA"
      ]
     },
     "execution_count": 2,
     "metadata": {},
     "output_type": "execute_result"
    }
   ],
   "source": [
    "df = pd.read_csv(\"./data/Attacks from Countries.csv\")\n",
    "\n",
    "exception = {\n",
    "    \"Russia\": \"Russian Federation\",\n",
    "    \"South Korea\": \"Korea, Republic of\",\n",
    "    \"Palestine\": \"Palestine, State of\",\n",
    "    \"Iran\": \"Iran, Islamic Republic of\",\n",
    "    \"Syria\": \"Syrian Arab Republic\",\n",
    "    \"Brunei\": \"Brunei Darussalam\",\n",
    "    \"DR Congo\": \"Congo, The Democratic Republic of the\",\n",
    "    \"Ivory Coast\": \"Côte d'Ivoire\",\n",
    "    \"Sint Maarten\": \"Sint Maarten (Dutch part)\"\n",
    "    \n",
    "    \n",
    "}\n",
    "\n",
    "country_name = {}\n",
    "for country in pycountry.countries:\n",
    "    country_name[country.name] = country.alpha_3\n",
    "    if hasattr(country, 'common_name'):\n",
    "        country_name[country.common_name] = country.alpha_3\n",
    "    if hasattr(country, 'official_name'):\n",
    "        country_name[country.official_name] = country.alpha_3\n",
    "    if hasattr(country, 'numeric'):\n",
    "        country_name[country.numeric] = country.alpha_3\n",
    "codes = []\n",
    "for country in df[\"geoip.country_name.keyword: Descending\"]:\n",
    "    \n",
    "    code = country_name.get(country, 'Unknown code')\n",
    "    if code == 'Unknown code':\n",
    "        if country in exception:\n",
    "            codes.append(country_name.get(exception.get(country), 'Unknown code'))\n",
    "        else:\n",
    "            print(country)\n",
    "            codes.append(code)\n",
    "    else:\n",
    "        codes.append(code)\n",
    "df[\"iso_a3\"] = codes\n",
    "df.head()"
   ]
  },
  {
   "cell_type": "code",
   "execution_count": 3,
   "metadata": {},
   "outputs": [
    {
     "data": {
      "text/html": [
       "<div>\n",
       "<style scoped>\n",
       "    .dataframe tbody tr th:only-of-type {\n",
       "        vertical-align: middle;\n",
       "    }\n",
       "\n",
       "    .dataframe tbody tr th {\n",
       "        vertical-align: top;\n",
       "    }\n",
       "\n",
       "    .dataframe thead th {\n",
       "        text-align: right;\n",
       "    }\n",
       "</style>\n",
       "<table border=\"1\" class=\"dataframe\">\n",
       "  <thead>\n",
       "    <tr style=\"text-align: right;\">\n",
       "      <th></th>\n",
       "      <th>pop_est</th>\n",
       "      <th>continent</th>\n",
       "      <th>name</th>\n",
       "      <th>iso_a3</th>\n",
       "      <th>gdp_md_est</th>\n",
       "      <th>geometry</th>\n",
       "      <th>geoip.country_name.keyword: Descending</th>\n",
       "      <th>Count</th>\n",
       "    </tr>\n",
       "  </thead>\n",
       "  <tbody>\n",
       "    <tr>\n",
       "      <th>0</th>\n",
       "      <td>35623680</td>\n",
       "      <td>North America</td>\n",
       "      <td>Canada</td>\n",
       "      <td>CAN</td>\n",
       "      <td>1674000.0</td>\n",
       "      <td>(POLYGON ((-122.84 49.00000000000011, -122.974...</td>\n",
       "      <td>Canada</td>\n",
       "      <td>258</td>\n",
       "    </tr>\n",
       "    <tr>\n",
       "      <th>1</th>\n",
       "      <td>326625791</td>\n",
       "      <td>North America</td>\n",
       "      <td>United States of America</td>\n",
       "      <td>USA</td>\n",
       "      <td>18560000.0</td>\n",
       "      <td>(POLYGON ((-122.84 49.00000000000011, -120 49....</td>\n",
       "      <td>United States</td>\n",
       "      <td>10014</td>\n",
       "    </tr>\n",
       "    <tr>\n",
       "      <th>2</th>\n",
       "      <td>260580739</td>\n",
       "      <td>Asia</td>\n",
       "      <td>Indonesia</td>\n",
       "      <td>IDN</td>\n",
       "      <td>3028000.0</td>\n",
       "      <td>(POLYGON ((141.0002104025918 -2.60015105551566...</td>\n",
       "      <td>Indonesia</td>\n",
       "      <td>3</td>\n",
       "    </tr>\n",
       "    <tr>\n",
       "      <th>3</th>\n",
       "      <td>44293293</td>\n",
       "      <td>South America</td>\n",
       "      <td>Argentina</td>\n",
       "      <td>ARG</td>\n",
       "      <td>879400.0</td>\n",
       "      <td>(POLYGON ((-68.63401022758323 -52.636370458874...</td>\n",
       "      <td>Argentina</td>\n",
       "      <td>3</td>\n",
       "    </tr>\n",
       "    <tr>\n",
       "      <th>4</th>\n",
       "      <td>142257519</td>\n",
       "      <td>Europe</td>\n",
       "      <td>Russia</td>\n",
       "      <td>RUS</td>\n",
       "      <td>3745000.0</td>\n",
       "      <td>(POLYGON ((178.7253 71.0988, 180.0000000000001...</td>\n",
       "      <td>Russia</td>\n",
       "      <td>76</td>\n",
       "    </tr>\n",
       "  </tbody>\n",
       "</table>\n",
       "</div>"
      ],
      "text/plain": [
       "     pop_est      continent                      name iso_a3  gdp_md_est  \\\n",
       "0   35623680  North America                    Canada    CAN   1674000.0   \n",
       "1  326625791  North America  United States of America    USA  18560000.0   \n",
       "2  260580739           Asia                 Indonesia    IDN   3028000.0   \n",
       "3   44293293  South America                 Argentina    ARG    879400.0   \n",
       "4  142257519         Europe                    Russia    RUS   3745000.0   \n",
       "\n",
       "                                            geometry  \\\n",
       "0  (POLYGON ((-122.84 49.00000000000011, -122.974...   \n",
       "1  (POLYGON ((-122.84 49.00000000000011, -120 49....   \n",
       "2  (POLYGON ((141.0002104025918 -2.60015105551566...   \n",
       "3  (POLYGON ((-68.63401022758323 -52.636370458874...   \n",
       "4  (POLYGON ((178.7253 71.0988, 180.0000000000001...   \n",
       "\n",
       "  geoip.country_name.keyword: Descending  Count  \n",
       "0                                 Canada    258  \n",
       "1                          United States  10014  \n",
       "2                              Indonesia      3  \n",
       "3                              Argentina      3  \n",
       "4                                 Russia     76  "
      ]
     },
     "execution_count": 3,
     "metadata": {},
     "output_type": "execute_result"
    }
   ],
   "source": [
    "world = gpd.read_file(gpd.datasets.get_path('naturalearth_lowres'))\n",
    "world = world[(world.pop_est>0) & (world.name!=\"Antarctica\")]\n",
    "world = pd.merge(world, df, on='iso_a3')\n",
    "world.head()"
   ]
  },
  {
   "cell_type": "code",
   "execution_count": 4,
   "metadata": {},
   "outputs": [
    {
     "data": {
      "image/png": "[encoded data removed]",
      "text/plain": [
       "<Figure size 1080x360 with 2 Axes>"
      ]
     },
     "metadata": {
      "needs_background": "light"
     },
     "output_type": "display_data"
    }
   ],
   "source": [
    "fig, ax = plt.subplots(figsize = (15, 5))\n",
    "world.plot(ax=ax, column=\"Count\", cmap='OrRd', legend=True)\n",
    "ax.set_facecolor('white')\n",
    "# geo_df.plot(ax=ax)\n",
    "\n",
    "plt.xticks([])\n",
    "plt.yticks([])\n",
    "ax.margins(0)\n",
    "ax.tick_params(left=False, labelleft=False, bottom=False, labelbottom=False)\n",
    "\n",
    "fig.savefig(\"madcat-overview-map.pdf\", format=\"pdf\", bbox_inches=\"tight\", pad_inches=0)"
   ]
  },
  {
   "cell_type": "markdown",
   "metadata": {},
   "source": [
    "## Protocol Distribution"
   ]
  },
  {
   "cell_type": "code",
   "execution_count": 5,
   "metadata": {},
   "outputs": [
    {
     "data": {
      "text/html": [
       "<div>\n",
       "<style scoped>\n",
       "    .dataframe tbody tr th:only-of-type {\n",
       "        vertical-align: middle;\n",
       "    }\n",
       "\n",
       "    .dataframe tbody tr th {\n",
       "        vertical-align: top;\n",
       "    }\n",
       "\n",
       "    .dataframe thead th {\n",
       "        text-align: right;\n",
       "    }\n",
       "</style>\n",
       "<table border=\"1\" class=\"dataframe\">\n",
       "  <thead>\n",
       "    <tr style=\"text-align: right;\">\n",
       "      <th></th>\n",
       "      <th>Top 999 unusual terms in proto.keyword</th>\n",
       "      <th>timestamp per 12 hours</th>\n",
       "      <th>Count</th>\n",
       "    </tr>\n",
       "  </thead>\n",
       "  <tbody>\n",
       "    <tr>\n",
       "      <th>0</th>\n",
       "      <td>ICMP</td>\n",
       "      <td>2021-10-29 00:00:00</td>\n",
       "      <td>2</td>\n",
       "    </tr>\n",
       "    <tr>\n",
       "      <th>1</th>\n",
       "      <td>ICMP</td>\n",
       "      <td>2021-10-29 12:00:00</td>\n",
       "      <td>16</td>\n",
       "    </tr>\n",
       "    <tr>\n",
       "      <th>2</th>\n",
       "      <td>ICMP</td>\n",
       "      <td>2021-10-30 00:00:00</td>\n",
       "      <td>9</td>\n",
       "    </tr>\n",
       "    <tr>\n",
       "      <th>3</th>\n",
       "      <td>ICMP</td>\n",
       "      <td>2021-10-30 12:00:00</td>\n",
       "      <td>14</td>\n",
       "    </tr>\n",
       "    <tr>\n",
       "      <th>4</th>\n",
       "      <td>ICMP</td>\n",
       "      <td>2021-10-31 00:00:00</td>\n",
       "      <td>18</td>\n",
       "    </tr>\n",
       "  </tbody>\n",
       "</table>\n",
       "</div>"
      ],
      "text/plain": [
       "  Top 999 unusual terms in proto.keyword timestamp per 12 hours  Count\n",
       "0                                   ICMP    2021-10-29 00:00:00      2\n",
       "1                                   ICMP    2021-10-29 12:00:00     16\n",
       "2                                   ICMP    2021-10-30 00:00:00      9\n",
       "3                                   ICMP    2021-10-30 12:00:00     14\n",
       "4                                   ICMP    2021-10-31 00:00:00     18"
      ]
     },
     "execution_count": 5,
     "metadata": {},
     "output_type": "execute_result"
    }
   ],
   "source": [
    "df = pd.read_csv(\"./data/Protocol used.csv\")\n",
    "df.Count = df.Count.str.replace(',', '').astype(int)\n",
    "df[\"timestamp per 12 hours\"] = pd.to_datetime(df[\"timestamp per 12 hours\"])\n",
    "df.head()"
   ]
  },
  {
   "cell_type": "code",
   "execution_count": 7,
   "metadata": {},
   "outputs": [
    {
     "data": {
      "image/png": "[encoded data removed]",
      "text/plain": [
       "<Figure size 576x360 with 1 Axes>"
      ]
     },
     "metadata": {
      "needs_background": "light"
     },
     "output_type": "display_data"
    }
   ],
   "source": [
    "fig, ax = plt.subplots(figsize = (8,5))\n",
    "\n",
    "for k, d in df.groupby('Top 999 unusual terms in proto.keyword'):\n",
    "    x = d['timestamp per 12 hours'].to_numpy()\n",
    "    y = d['Count'].to_numpy()\n",
    "    \n",
    "    ax.xaxis.set_major_formatter(mdates.DateFormatter('%Y-%m-%d'))\n",
    "    ax.xaxis.set_major_locator(mdates.DayLocator())\n",
    "    \n",
    "    #ax.scatter(x,y)\n",
    "    ax.plot(x,y, label=k)\n",
    "    ax.fill_between(x, y)\n",
    "\n",
    "\n",
    "fig.autofmt_xdate()\n",
    "ax.set_ylabel(\"Number of Attacks\")\n",
    "ax.set_xlabel(\"Timestamp\")\n",
    "\n",
    "# Major ticks every 6 months.\n",
    "fmt_half_year = mdates.DayLocator(interval=4)\n",
    "ax.xaxis.set_major_locator(fmt_half_year)\n",
    "\n",
    "# Minor ticks every month.\n",
    "fmt_month = mdates.MonthLocator()\n",
    "ax.xaxis.set_minor_locator(fmt_month)\n",
    "\n",
    "# Round to nearest years.\n",
    "datemin = df[\"timestamp per 12 hours\"].min()\n",
    "datemax = df[\"timestamp per 12 hours\"].max()\n",
    "ax.set_xlim(datemin, datemax)\n",
    "\n",
    "# Put a legend to the right of the current axis\n",
    "legend = plt.legend(loc='upper right',frameon = 1)\n",
    "frame = legend.get_frame()\n",
    "frame.set_facecolor('white')\n",
    "\n",
    "plt.xticks( rotation=25 )\n",
    "plt.gcf().subplots_adjust(left=0.15)\n",
    "plt.savefig(\"madcat-protocol-usage.pdf\", format=\"pdf\", bbox_inches=\"tight\", pad_inches=0)\n",
    "plt.show()"
   ]
  },
  {
   "cell_type": "markdown",
   "metadata": {},
   "source": [
    "## Suricata"
   ]
  },
  {
   "cell_type": "code",
   "execution_count": 5,
   "metadata": {},
   "outputs": [
    {
     "data": {
      "text/html": [
       "<div>\n",
       "<style scoped>\n",
       "    .dataframe tbody tr th:only-of-type {\n",
       "        vertical-align: middle;\n",
       "    }\n",
       "\n",
       "    .dataframe tbody tr th {\n",
       "        vertical-align: top;\n",
       "    }\n",
       "\n",
       "    .dataframe thead th {\n",
       "        text-align: right;\n",
       "    }\n",
       "</style>\n",
       "<table border=\"1\" class=\"dataframe\">\n",
       "  <thead>\n",
       "    <tr style=\"text-align: right;\">\n",
       "      <th></th>\n",
       "      <th>alert.category.keyword: Descending</th>\n",
       "      <th>Timestamp</th>\n",
       "      <th>Attacks</th>\n",
       "    </tr>\n",
       "  </thead>\n",
       "  <tbody>\n",
       "    <tr>\n",
       "      <th>0</th>\n",
       "      <td>Attempted Administrator Privilege Gain</td>\n",
       "      <td>2021-11-16 12:00:00</td>\n",
       "      <td>22730</td>\n",
       "    </tr>\n",
       "    <tr>\n",
       "      <th>1</th>\n",
       "      <td>Attempted Administrator Privilege Gain</td>\n",
       "      <td>2021-11-18 12:00:00</td>\n",
       "      <td>12084</td>\n",
       "    </tr>\n",
       "    <tr>\n",
       "      <th>2</th>\n",
       "      <td>Attempted Administrator Privilege Gain</td>\n",
       "      <td>2021-11-19 00:00:00</td>\n",
       "      <td>25681</td>\n",
       "    </tr>\n",
       "    <tr>\n",
       "      <th>3</th>\n",
       "      <td>Attempted Administrator Privilege Gain</td>\n",
       "      <td>2021-11-24 00:00:00</td>\n",
       "      <td>4433</td>\n",
       "    </tr>\n",
       "    <tr>\n",
       "      <th>4</th>\n",
       "      <td>Attempted Administrator Privilege Gain</td>\n",
       "      <td>2021-11-24 12:00:00</td>\n",
       "      <td>12073</td>\n",
       "    </tr>\n",
       "  </tbody>\n",
       "</table>\n",
       "</div>"
      ],
      "text/plain": [
       "       alert.category.keyword: Descending           Timestamp  Attacks\n",
       "0  Attempted Administrator Privilege Gain 2021-11-16 12:00:00    22730\n",
       "1  Attempted Administrator Privilege Gain 2021-11-18 12:00:00    12084\n",
       "2  Attempted Administrator Privilege Gain 2021-11-19 00:00:00    25681\n",
       "3  Attempted Administrator Privilege Gain 2021-11-24 00:00:00     4433\n",
       "4  Attempted Administrator Privilege Gain 2021-11-24 12:00:00    12073"
      ]
     },
     "execution_count": 5,
     "metadata": {},
     "output_type": "execute_result"
    }
   ],
   "source": [
    "df = pd.read_csv(\"./data/Suricata Alert Category Histogram 419.csv\")\n",
    "df.Attacks = df.Attacks.str.replace(',', '').astype(int)\n",
    "df.Timestamp = pd.to_datetime(df.Timestamp)\n",
    "#df = df.sort_values(by=[\"alert\", \"Timestamp\"])\n",
    "df.head()"
   ]
  },
  {
   "cell_type": "code",
   "execution_count": 6,
   "metadata": {},
   "outputs": [
    {
     "data": {
      "image/png": "[encoded data removed]",
      "text/plain": [
       "<Figure size 1080x360 with 1 Axes>"
      ]
     },
     "metadata": {
      "needs_background": "light"
     },
     "output_type": "display_data"
    }
   ],
   "source": [
    "fig, ax = plt.subplots(figsize = (15,5))\n",
    "\n",
    "x_pos = [i for i, _ in enumerate(df.groupby(\"Timestamp\"))]\n",
    "\n",
    "bottoms=[]\n",
    "for idx, (k, d) in reversed(list(enumerate(df.groupby(\"alert.category.keyword: Descending\")))):\n",
    "    x = d[\"Timestamp\"]\n",
    "    y = d[\"Attacks\"]\n",
    "    \n",
    "    ax.xaxis.set_major_formatter(mdates.DateFormatter('%Y-%m-%d'))\n",
    "    ax.xaxis.set_major_locator(mdates.HourLocator(interval=12))\n",
    "    \n",
    "    if idx == 4:\n",
    "        ax.bar(x, y, 0.5, edgecolor='white',label=k)\n",
    "    else:\n",
    "        ax.bar(x, y, 0.5,bottom=bottoms[idx-3] ,edgecolor='white',label=k)\n",
    "    \n",
    "    bottoms.append(y.to_numpy())\n",
    "\n",
    "fig.autofmt_xdate()\n",
    "plt.ylabel(\"Number of Attacks\")\n",
    "plt.xlabel(\"Timestamp\")\n",
    "\n",
    "# Major ticks every 6 months.\n",
    "fmt_half_year = mdates.DayLocator(interval=4)\n",
    "ax.xaxis.set_major_locator(fmt_half_year)\n",
    "\n",
    "# Minor ticks every month.\n",
    "fmt_month = mdates.MonthLocator()\n",
    "ax.xaxis.set_minor_locator(fmt_month)\n",
    "\n",
    "# Round to nearest years.\n",
    "datemin = df.Timestamp.min()\n",
    "datemax = df.Timestamp.max()\n",
    "ax.set_xlim(datemin, datemax)\n",
    "\n",
    "# Put a legend to the right of the current axis\n",
    "legend = plt.legend(loc='center left', bbox_to_anchor=(0.8, 0.9), frameon = 1)\n",
    "frame = legend.get_frame()\n",
    "frame.set_facecolor('white')\n",
    "\n",
    "plt.xticks( rotation=25 )\n",
    "plt.gcf().subplots_adjust(left=0.35)\n",
    "plt.setp(plt.gca().get_xticklabels(), rotation=45, horizontalalignment='right')\n",
    "plt.savefig(\"madcat-suricata-alerts.pdf\", format=\"pdf\", bbox_inches=\"tight\", pad_inches=0)\n",
    "plt.show()"
   ]
  },
  {
   "cell_type": "markdown",
   "metadata": {},
   "source": [
    "## Subnet Eduroam"
   ]
  },
  {
   "cell_type": "code",
   "execution_count": null,
   "metadata": {},
   "outputs": [],
   "source": []
  }
 ],
 "metadata": {
  "kernelspec": {
   "display_name": "Python 3",
   "language": "python",
   "name": "python3"
  },
  "language_info": {
   "codemirror_mode": {
    "name": "ipython",
    "version": 3
   },
   "file_extension": ".py",
   "mimetype": "text/x-python",
   "name": "python",
   "nbconvert_exporter": "python",
   "pygments_lexer": "ipython3",
   "version": "3.7.3"
  }
 },
 "nbformat": 4,
 "nbformat_minor": 2
}
