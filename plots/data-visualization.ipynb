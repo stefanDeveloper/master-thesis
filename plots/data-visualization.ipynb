{
 "cells": [
  {
   "cell_type": "markdown",
   "metadata": {},
   "source": [
    "# T-Pot Results"
   ]
  },
  {
   "cell_type": "code",
   "execution_count": 2,
   "metadata": {},
   "outputs": [],
   "source": [
    "import matplotlib.pyplot as plt\n",
    "import pandas as pd\n",
    "import numpy as np\n",
    "import geopandas as gpd\n",
    "import json\n",
    "import pycountry\n",
    "import matplotlib.dates as mdates\n",
    "import time\n",
    "plt.style.use('ggplot')"
   ]
  },
  {
   "cell_type": "markdown",
   "metadata": {},
   "source": [
    "## Attack distribution"
   ]
  },
  {
   "cell_type": "code",
   "execution_count": 2,
   "metadata": {
    "scrolled": true
   },
   "outputs": [
    {
     "data": {
      "text/html": [
       "<div>\n",
       "<style scoped>\n",
       "    .dataframe tbody tr th:only-of-type {\n",
       "        vertical-align: middle;\n",
       "    }\n",
       "\n",
       "    .dataframe tbody tr th {\n",
       "        vertical-align: top;\n",
       "    }\n",
       "\n",
       "    .dataframe thead th {\n",
       "        text-align: right;\n",
       "    }\n",
       "</style>\n",
       "<table border=\"1\" class=\"dataframe\">\n",
       "  <thead>\n",
       "    <tr style=\"text-align: right;\">\n",
       "      <th></th>\n",
       "      <th>Honeypots</th>\n",
       "      <th>Attacks</th>\n",
       "    </tr>\n",
       "  </thead>\n",
       "  <tbody>\n",
       "    <tr>\n",
       "      <th>0</th>\n",
       "      <td>Adbhoney</td>\n",
       "      <td>13292</td>\n",
       "    </tr>\n",
       "    <tr>\n",
       "      <th>1</th>\n",
       "      <td>Ciscoasa</td>\n",
       "      <td>944</td>\n",
       "    </tr>\n",
       "    <tr>\n",
       "      <th>2</th>\n",
       "      <td>CitrixHoneypot</td>\n",
       "      <td>1471</td>\n",
       "    </tr>\n",
       "    <tr>\n",
       "      <th>3</th>\n",
       "      <td>ConPot</td>\n",
       "      <td>1003</td>\n",
       "    </tr>\n",
       "    <tr>\n",
       "      <th>4</th>\n",
       "      <td>Cowrie</td>\n",
       "      <td>98909</td>\n",
       "    </tr>\n",
       "  </tbody>\n",
       "</table>\n",
       "</div>"
      ],
      "text/plain": [
       "        Honeypots  Attacks\n",
       "0        Adbhoney    13292\n",
       "1        Ciscoasa      944\n",
       "2  CitrixHoneypot     1471\n",
       "3          ConPot     1003\n",
       "4          Cowrie    98909"
      ]
     },
     "execution_count": 2,
     "metadata": {},
     "output_type": "execute_result"
    }
   ],
   "source": [
    "df = pd.read_csv(\"./data/Honeypot Attacks Bar.csv\")\n",
    "df = df.sort_values(by=['Honeypots'])\n",
    "df.head()"
   ]
  },
  {
   "cell_type": "code",
   "execution_count": 3,
   "metadata": {},
   "outputs": [
    {
     "data": {
      "image/png": "[encoded data removed]",
      "text/plain": [
       "<Figure size 432x288 with 1 Axes>"
      ]
     },
     "metadata": {
      "needs_background": "light"
     },
     "output_type": "display_data"
    }
   ],
   "source": [
    "x = df['Honeypots'].to_numpy()\n",
    "y = df['Attacks'].to_numpy()\n",
    "\n",
    "x_pos = [i for i, _ in enumerate(x)]\n",
    "\n",
    "plt.bar(x_pos, y)\n",
    "\n",
    "plt.ylabel(\"Number of Attacks\")\n",
    "plt.xlabel(\"Honeypots\")\n",
    "\n",
    "plt.gcf().subplots_adjust(bottom=0.30, left=0.15)\n",
    "plt.xticks(x_pos, x)\n",
    "plt.setp(plt.gca().get_xticklabels(), rotation=45, horizontalalignment='right')\n",
    "plt.savefig(\"tpot-overview-attacks.pdf\", format=\"pdf\")\n",
    "\n",
    "plt.show()"
   ]
  },
  {
   "cell_type": "markdown",
   "metadata": {},
   "source": [
    "## Attack Map"
   ]
  },
  {
   "cell_type": "code",
   "execution_count": 4,
   "metadata": {},
   "outputs": [],
   "source": [
    "from shapely.geometry import Point"
   ]
  },
  {
   "cell_type": "code",
   "execution_count": 5,
   "metadata": {},
   "outputs": [
    {
     "data": {
      "text/html": [
       "<div>\n",
       "<style scoped>\n",
       "    .dataframe tbody tr th:only-of-type {\n",
       "        vertical-align: middle;\n",
       "    }\n",
       "\n",
       "    .dataframe tbody tr th {\n",
       "        vertical-align: top;\n",
       "    }\n",
       "\n",
       "    .dataframe thead th {\n",
       "        text-align: right;\n",
       "    }\n",
       "</style>\n",
       "<table border=\"1\" class=\"dataframe\">\n",
       "  <thead>\n",
       "    <tr style=\"text-align: right;\">\n",
       "      <th></th>\n",
       "      <th>Filter</th>\n",
       "      <th>Geohash</th>\n",
       "      <th>Count</th>\n",
       "      <th>Geo Centroid</th>\n",
       "      <th>Longitude</th>\n",
       "      <th>Latitude</th>\n",
       "    </tr>\n",
       "  </thead>\n",
       "  <tbody>\n",
       "    <tr>\n",
       "      <th>0</th>\n",
       "      <td>NaN</td>\n",
       "      <td>u0</td>\n",
       "      <td>109,705</td>\n",
       "      <td>{\\n  \"lat\": 49.60602676299543,\\n  \"lon\": 7.514...</td>\n",
       "      <td>7.514657</td>\n",
       "      <td>49.606027</td>\n",
       "    </tr>\n",
       "    <tr>\n",
       "      <th>1</th>\n",
       "      <td>NaN</td>\n",
       "      <td>u1</td>\n",
       "      <td>74,478</td>\n",
       "      <td>{\\n  \"lat\": 51.90162099285427,\\n  \"lon\": 6.913...</td>\n",
       "      <td>6.913701</td>\n",
       "      <td>51.901621</td>\n",
       "    </tr>\n",
       "    <tr>\n",
       "      <th>2</th>\n",
       "      <td>NaN</td>\n",
       "      <td>9y</td>\n",
       "      <td>73,996</td>\n",
       "      <td>{\\n  \"lat\": 37.751111446329,\\n  \"lon\": -97.820...</td>\n",
       "      <td>-97.820710</td>\n",
       "      <td>37.751111</td>\n",
       "    </tr>\n",
       "    <tr>\n",
       "      <th>3</th>\n",
       "      <td>NaN</td>\n",
       "      <td>uc</td>\n",
       "      <td>53,038</td>\n",
       "      <td>{\\n  \"lat\": 55.727742240422,\\n  \"lon\": 37.6077...</td>\n",
       "      <td>37.607720</td>\n",
       "      <td>55.727742</td>\n",
       "    </tr>\n",
       "    <tr>\n",
       "      <th>4</th>\n",
       "      <td>NaN</td>\n",
       "      <td>wt</td>\n",
       "      <td>28,149</td>\n",
       "      <td>{\\n  \"lat\": 31.731900685061067,\\n  \"lon\": 119....</td>\n",
       "      <td>119.160638</td>\n",
       "      <td>31.731901</td>\n",
       "    </tr>\n",
       "  </tbody>\n",
       "</table>\n",
       "</div>"
      ],
      "text/plain": [
       "   Filter Geohash    Count                                       Geo Centroid  \\\n",
       "0     NaN      u0  109,705  {\\n  \"lat\": 49.60602676299543,\\n  \"lon\": 7.514...   \n",
       "1     NaN      u1   74,478  {\\n  \"lat\": 51.90162099285427,\\n  \"lon\": 6.913...   \n",
       "2     NaN      9y   73,996  {\\n  \"lat\": 37.751111446329,\\n  \"lon\": -97.820...   \n",
       "3     NaN      uc   53,038  {\\n  \"lat\": 55.727742240422,\\n  \"lon\": 37.6077...   \n",
       "4     NaN      wt   28,149  {\\n  \"lat\": 31.731900685061067,\\n  \"lon\": 119....   \n",
       "\n",
       "    Longitude   Latitude  \n",
       "0    7.514657  49.606027  \n",
       "1    6.913701  51.901621  \n",
       "2  -97.820710  37.751111  \n",
       "3   37.607720  55.727742  \n",
       "4  119.160638  31.731901  "
      ]
     },
     "execution_count": 5,
     "metadata": {},
     "output_type": "execute_result"
    }
   ],
   "source": [
    "df = pd.read_csv(\"./data/Honeypot Attack Map.csv\")\n",
    "geos = df[\"Geo Centroid\"].to_numpy()\n",
    "lats = []\n",
    "lons = []\n",
    "for geo in geos:\n",
    "    test = json.loads(geo)\n",
    "    lats.append(test[\"lat\"])\n",
    "    lons.append(test[\"lon\"])\n",
    "df[\"Longitude\"] = lons\n",
    "df[\"Latitude\"] = lats\n",
    "df.head()"
   ]
  },
  {
   "cell_type": "code",
   "execution_count": 6,
   "metadata": {},
   "outputs": [],
   "source": [
    "geometry = [Point(xy) for xy in zip(df[\"Longitude\"], df[\"Latitude\"])]\n",
    "crs = {'init': 'epsg:4326'}\n",
    "geo_df = gpd.GeoDataFrame(df, crs = crs, geometry=geometry)"
   ]
  },
  {
   "cell_type": "code",
   "execution_count": 7,
   "metadata": {},
   "outputs": [
    {
     "name": "stdout",
     "output_type": "stream",
     "text": [
      "North Macedonia\n"
     ]
    },
    {
     "data": {
      "text/html": [
       "<div>\n",
       "<style scoped>\n",
       "    .dataframe tbody tr th:only-of-type {\n",
       "        vertical-align: middle;\n",
       "    }\n",
       "\n",
       "    .dataframe tbody tr th {\n",
       "        vertical-align: top;\n",
       "    }\n",
       "\n",
       "    .dataframe thead th {\n",
       "        text-align: right;\n",
       "    }\n",
       "</style>\n",
       "<table border=\"1\" class=\"dataframe\">\n",
       "  <thead>\n",
       "    <tr style=\"text-align: right;\">\n",
       "      <th></th>\n",
       "      <th>geoip.country_name.keyword: Descending</th>\n",
       "      <th>Count</th>\n",
       "      <th>iso_a3</th>\n",
       "    </tr>\n",
       "  </thead>\n",
       "  <tbody>\n",
       "    <tr>\n",
       "      <th>0</th>\n",
       "      <td>United States</td>\n",
       "      <td>199056</td>\n",
       "      <td>USA</td>\n",
       "    </tr>\n",
       "    <tr>\n",
       "      <th>1</th>\n",
       "      <td>Germany</td>\n",
       "      <td>112608</td>\n",
       "      <td>DEU</td>\n",
       "    </tr>\n",
       "    <tr>\n",
       "      <th>2</th>\n",
       "      <td>Russia</td>\n",
       "      <td>91819</td>\n",
       "      <td>RUS</td>\n",
       "    </tr>\n",
       "    <tr>\n",
       "      <th>3</th>\n",
       "      <td>Netherlands</td>\n",
       "      <td>50954</td>\n",
       "      <td>NLD</td>\n",
       "    </tr>\n",
       "    <tr>\n",
       "      <th>4</th>\n",
       "      <td>China</td>\n",
       "      <td>47998</td>\n",
       "      <td>CHN</td>\n",
       "    </tr>\n",
       "  </tbody>\n",
       "</table>\n",
       "</div>"
      ],
      "text/plain": [
       "  geoip.country_name.keyword: Descending   Count iso_a3\n",
       "0                          United States  199056    USA\n",
       "1                                Germany  112608    DEU\n",
       "2                                 Russia   91819    RUS\n",
       "3                            Netherlands   50954    NLD\n",
       "4                                  China   47998    CHN"
      ]
     },
     "execution_count": 7,
     "metadata": {},
     "output_type": "execute_result"
    }
   ],
   "source": [
    "df = pd.read_csv(\"./data/Attacks by Country.csv\")\n",
    "\n",
    "exception = {\n",
    "    \"Russia\": \"Russian Federation\",\n",
    "    \"South Korea\": \"Korea, Republic of\",\n",
    "    \"Palestine\": \"Palestine, State of\",\n",
    "    \"Iran\": \"Iran, Islamic Republic of\",\n",
    "    \"Syria\": \"Syrian Arab Republic\",\n",
    "    \"Brunei\": \"Brunei Darussalam\",\n",
    "    \"DR Congo\": \"Congo, The Democratic Republic of the\",\n",
    "    \"Ivory Coast\": \"Côte d'Ivoire\",\n",
    "    \"Sint Maarten\": \"Sint Maarten (Dutch part)\"\n",
    "    \n",
    "    \n",
    "}\n",
    "\n",
    "country_name = {}\n",
    "for country in pycountry.countries:\n",
    "    country_name[country.name] = country.alpha_3\n",
    "    if hasattr(country, 'common_name'):\n",
    "        country_name[country.common_name] = country.alpha_3\n",
    "    if hasattr(country, 'official_name'):\n",
    "        country_name[country.official_name] = country.alpha_3\n",
    "    if hasattr(country, 'numeric'):\n",
    "        country_name[country.numeric] = country.alpha_3\n",
    "codes = []\n",
    "for country in df[\"geoip.country_name.keyword: Descending\"]:\n",
    "    \n",
    "    code = country_name.get(country, 'Unknown code')\n",
    "    if code == 'Unknown code':\n",
    "        if country in exception:\n",
    "            codes.append(country_name.get(exception.get(country), 'Unknown code'))\n",
    "        else:\n",
    "            print(country)\n",
    "            codes.append(code)\n",
    "    else:\n",
    "        codes.append(code)\n",
    "df[\"iso_a3\"] = codes\n",
    "df.head()"
   ]
  },
  {
   "cell_type": "code",
   "execution_count": 8,
   "metadata": {},
   "outputs": [
    {
     "data": {
      "text/html": [
       "<div>\n",
       "<style scoped>\n",
       "    .dataframe tbody tr th:only-of-type {\n",
       "        vertical-align: middle;\n",
       "    }\n",
       "\n",
       "    .dataframe tbody tr th {\n",
       "        vertical-align: top;\n",
       "    }\n",
       "\n",
       "    .dataframe thead th {\n",
       "        text-align: right;\n",
       "    }\n",
       "</style>\n",
       "<table border=\"1\" class=\"dataframe\">\n",
       "  <thead>\n",
       "    <tr style=\"text-align: right;\">\n",
       "      <th></th>\n",
       "      <th>pop_est</th>\n",
       "      <th>continent</th>\n",
       "      <th>name</th>\n",
       "      <th>iso_a3</th>\n",
       "      <th>gdp_md_est</th>\n",
       "      <th>geometry</th>\n",
       "      <th>geoip.country_name.keyword: Descending</th>\n",
       "      <th>Count</th>\n",
       "    </tr>\n",
       "  </thead>\n",
       "  <tbody>\n",
       "    <tr>\n",
       "      <th>0</th>\n",
       "      <td>35623680</td>\n",
       "      <td>North America</td>\n",
       "      <td>Canada</td>\n",
       "      <td>CAN</td>\n",
       "      <td>1674000.0</td>\n",
       "      <td>(POLYGON ((-122.84 49.00000000000011, -122.974...</td>\n",
       "      <td>Canada</td>\n",
       "      <td>2847</td>\n",
       "    </tr>\n",
       "    <tr>\n",
       "      <th>1</th>\n",
       "      <td>326625791</td>\n",
       "      <td>North America</td>\n",
       "      <td>United States of America</td>\n",
       "      <td>USA</td>\n",
       "      <td>18560000.0</td>\n",
       "      <td>(POLYGON ((-122.84 49.00000000000011, -120 49....</td>\n",
       "      <td>United States</td>\n",
       "      <td>199056</td>\n",
       "    </tr>\n",
       "    <tr>\n",
       "      <th>2</th>\n",
       "      <td>18556698</td>\n",
       "      <td>Asia</td>\n",
       "      <td>Kazakhstan</td>\n",
       "      <td>KAZ</td>\n",
       "      <td>460700.0</td>\n",
       "      <td>POLYGON ((87.35997033076265 49.21498078062912,...</td>\n",
       "      <td>Kazakhstan</td>\n",
       "      <td>47</td>\n",
       "    </tr>\n",
       "    <tr>\n",
       "      <th>3</th>\n",
       "      <td>260580739</td>\n",
       "      <td>Asia</td>\n",
       "      <td>Indonesia</td>\n",
       "      <td>IDN</td>\n",
       "      <td>3028000.0</td>\n",
       "      <td>(POLYGON ((141.0002104025918 -2.60015105551566...</td>\n",
       "      <td>Indonesia</td>\n",
       "      <td>4377</td>\n",
       "    </tr>\n",
       "    <tr>\n",
       "      <th>4</th>\n",
       "      <td>44293293</td>\n",
       "      <td>South America</td>\n",
       "      <td>Argentina</td>\n",
       "      <td>ARG</td>\n",
       "      <td>879400.0</td>\n",
       "      <td>(POLYGON ((-68.63401022758323 -52.636370458874...</td>\n",
       "      <td>Argentina</td>\n",
       "      <td>192</td>\n",
       "    </tr>\n",
       "  </tbody>\n",
       "</table>\n",
       "</div>"
      ],
      "text/plain": [
       "     pop_est      continent                      name iso_a3  gdp_md_est  \\\n",
       "0   35623680  North America                    Canada    CAN   1674000.0   \n",
       "1  326625791  North America  United States of America    USA  18560000.0   \n",
       "2   18556698           Asia                Kazakhstan    KAZ    460700.0   \n",
       "3  260580739           Asia                 Indonesia    IDN   3028000.0   \n",
       "4   44293293  South America                 Argentina    ARG    879400.0   \n",
       "\n",
       "                                            geometry  \\\n",
       "0  (POLYGON ((-122.84 49.00000000000011, -122.974...   \n",
       "1  (POLYGON ((-122.84 49.00000000000011, -120 49....   \n",
       "2  POLYGON ((87.35997033076265 49.21498078062912,...   \n",
       "3  (POLYGON ((141.0002104025918 -2.60015105551566...   \n",
       "4  (POLYGON ((-68.63401022758323 -52.636370458874...   \n",
       "\n",
       "  geoip.country_name.keyword: Descending   Count  \n",
       "0                                 Canada    2847  \n",
       "1                          United States  199056  \n",
       "2                             Kazakhstan      47  \n",
       "3                              Indonesia    4377  \n",
       "4                              Argentina     192  "
      ]
     },
     "execution_count": 8,
     "metadata": {},
     "output_type": "execute_result"
    }
   ],
   "source": [
    "world = gpd.read_file(gpd.datasets.get_path('naturalearth_lowres'))\n",
    "world = world[(world.pop_est>0) & (world.name!=\"Antarctica\")]\n",
    "world = pd.merge(world, df, on='iso_a3')\n",
    "world.head()"
   ]
  },
  {
   "cell_type": "code",
   "execution_count": 9,
   "metadata": {},
   "outputs": [
    {
     "data": {
      "image/png": "[encoded data removed]",
      "text/plain": [
       "<Figure size 1080x360 with 2 Axes>"
      ]
     },
     "metadata": {
      "needs_background": "light"
     },
     "output_type": "display_data"
    }
   ],
   "source": [
    "fig, ax = plt.subplots(figsize = (15, 5))\n",
    "world.plot(ax=ax, column=\"Count\", cmap='OrRd', legend=True)\n",
    "ax.set_facecolor('white')\n",
    "# geo_df.plot(ax=ax)\n",
    "\n",
    "plt.xticks([])\n",
    "plt.yticks([])\n",
    "ax.margins(0)\n",
    "ax.tick_params(left=False, labelleft=False, bottom=False, labelbottom=False)\n",
    "\n",
    "fig.savefig(\"tpot-overview-map.pdf\", format=\"pdf\", bbox_inches=\"tight\", pad_inches=0)"
   ]
  },
  {
   "cell_type": "markdown",
   "metadata": {},
   "source": [
    "## Attack histogram"
   ]
  },
  {
   "cell_type": "code",
   "execution_count": 10,
   "metadata": {},
   "outputs": [
    {
     "data": {
      "text/html": [
       "<div>\n",
       "<style scoped>\n",
       "    .dataframe tbody tr th:only-of-type {\n",
       "        vertical-align: middle;\n",
       "    }\n",
       "\n",
       "    .dataframe tbody tr th {\n",
       "        vertical-align: top;\n",
       "    }\n",
       "\n",
       "    .dataframe thead th {\n",
       "        text-align: right;\n",
       "    }\n",
       "</style>\n",
       "<table border=\"1\" class=\"dataframe\">\n",
       "  <thead>\n",
       "    <tr style=\"text-align: right;\">\n",
       "      <th></th>\n",
       "      <th>type.keyword: Descending</th>\n",
       "      <th>Timestamp</th>\n",
       "      <th>Attacks</th>\n",
       "    </tr>\n",
       "  </thead>\n",
       "  <tbody>\n",
       "    <tr>\n",
       "      <th>0</th>\n",
       "      <td>Rdpy</td>\n",
       "      <td>2021-09-27 12:00:00</td>\n",
       "      <td>24</td>\n",
       "    </tr>\n",
       "    <tr>\n",
       "      <th>1</th>\n",
       "      <td>Rdpy</td>\n",
       "      <td>2021-09-28 00:00:00</td>\n",
       "      <td>261</td>\n",
       "    </tr>\n",
       "    <tr>\n",
       "      <th>2</th>\n",
       "      <td>Rdpy</td>\n",
       "      <td>2021-09-28 12:00:00</td>\n",
       "      <td>34474</td>\n",
       "    </tr>\n",
       "    <tr>\n",
       "      <th>3</th>\n",
       "      <td>Rdpy</td>\n",
       "      <td>2021-09-29 00:00:00</td>\n",
       "      <td>3153</td>\n",
       "    </tr>\n",
       "    <tr>\n",
       "      <th>4</th>\n",
       "      <td>Rdpy</td>\n",
       "      <td>2021-09-29 12:00:00</td>\n",
       "      <td>7640</td>\n",
       "    </tr>\n",
       "  </tbody>\n",
       "</table>\n",
       "</div>"
      ],
      "text/plain": [
       "  type.keyword: Descending           Timestamp  Attacks\n",
       "0                     Rdpy 2021-09-27 12:00:00       24\n",
       "1                     Rdpy 2021-09-28 00:00:00      261\n",
       "2                     Rdpy 2021-09-28 12:00:00    34474\n",
       "3                     Rdpy 2021-09-29 00:00:00     3153\n",
       "4                     Rdpy 2021-09-29 12:00:00     7640"
      ]
     },
     "execution_count": 10,
     "metadata": {},
     "output_type": "execute_result"
    }
   ],
   "source": [
    "df = pd.read_csv(\"./data/Attacks by Honeypot Histogram.csv\")\n",
    "df.Attacks = df.Attacks.str.replace(',', '').astype(int)\n",
    "df.Timestamp = pd.to_datetime(df.Timestamp)\n",
    "df.head()"
   ]
  },
  {
   "cell_type": "code",
   "execution_count": 11,
   "metadata": {},
   "outputs": [],
   "source": [
    "from pandas.plotting import register_matplotlib_converters\n",
    "register_matplotlib_converters()"
   ]
  },
  {
   "cell_type": "code",
   "execution_count": 12,
   "metadata": {},
   "outputs": [
    {
     "data": {
      "image/png": "[encoded data removed]",
      "text/plain": [
       "<Figure size 576x360 with 1 Axes>"
      ]
     },
     "metadata": {
      "needs_background": "light"
     },
     "output_type": "display_data"
    }
   ],
   "source": [
    "fig, ax = plt.subplots(figsize = (8,5))\n",
    "\n",
    "for k, d in df.groupby('type.keyword: Descending'):\n",
    "    x = d['Timestamp'].to_numpy()\n",
    "    y = d['Attacks'].to_numpy()\n",
    "    \n",
    "    ax.xaxis.set_major_formatter(mdates.DateFormatter('%Y-%m-%d'))\n",
    "    ax.xaxis.set_major_locator(mdates.DayLocator())\n",
    "    \n",
    "    #ax.scatter(x,y)\n",
    "    ax.plot(x,y, label=k)\n",
    "    ax.fill_between(x, y)\n",
    "\n",
    "\n",
    "fig.autofmt_xdate()\n",
    "ax.set_ylabel(\"Number of Attacks\")\n",
    "ax.set_xlabel(\"Timestamp\")\n",
    "\n",
    "# Major ticks every 6 months.\n",
    "fmt_half_year = mdates.DayLocator(interval=4)\n",
    "ax.xaxis.set_major_locator(fmt_half_year)\n",
    "\n",
    "# Minor ticks every month.\n",
    "fmt_month = mdates.MonthLocator()\n",
    "ax.xaxis.set_minor_locator(fmt_month)\n",
    "\n",
    "# Round to nearest years.\n",
    "datemin = df.Timestamp.min()\n",
    "datemax = df.Timestamp.max()\n",
    "ax.set_xlim(datemin, datemax)\n",
    "\n",
    "# Put a legend to the right of the current axis\n",
    "legend = plt.legend(loc='upper right',frameon = 1)\n",
    "frame = legend.get_frame()\n",
    "frame.set_facecolor('white')\n",
    "\n",
    "plt.xticks( rotation=25 )\n",
    "plt.gcf().subplots_adjust(left=0.15)\n",
    "plt.savefig(\"tpot-attacks-histogram.pdf\", format=\"pdf\", bbox_inches=\"tight\", pad_inches=0)\n",
    "plt.show()"
   ]
  },
  {
   "cell_type": "markdown",
   "metadata": {},
   "source": [
    "## Suricata"
   ]
  },
  {
   "cell_type": "code",
   "execution_count": 13,
   "metadata": {},
   "outputs": [
    {
     "data": {
      "text/html": [
       "<div>\n",
       "<style scoped>\n",
       "    .dataframe tbody tr th:only-of-type {\n",
       "        vertical-align: middle;\n",
       "    }\n",
       "\n",
       "    .dataframe tbody tr th {\n",
       "        vertical-align: top;\n",
       "    }\n",
       "\n",
       "    .dataframe thead th {\n",
       "        text-align: right;\n",
       "    }\n",
       "</style>\n",
       "<table border=\"1\" class=\"dataframe\">\n",
       "  <thead>\n",
       "    <tr style=\"text-align: right;\">\n",
       "      <th></th>\n",
       "      <th>alert.category.keyword: Descending</th>\n",
       "      <th>Timestamp</th>\n",
       "      <th>Attacks</th>\n",
       "    </tr>\n",
       "  </thead>\n",
       "  <tbody>\n",
       "    <tr>\n",
       "      <th>0</th>\n",
       "      <td>Misc activity</td>\n",
       "      <td>2021-09-26 00:00:00</td>\n",
       "      <td>211</td>\n",
       "    </tr>\n",
       "    <tr>\n",
       "      <th>1</th>\n",
       "      <td>Misc activity</td>\n",
       "      <td>2021-09-26 12:00:00</td>\n",
       "      <td>257</td>\n",
       "    </tr>\n",
       "    <tr>\n",
       "      <th>2</th>\n",
       "      <td>Misc activity</td>\n",
       "      <td>2021-09-27 00:00:00</td>\n",
       "      <td>291</td>\n",
       "    </tr>\n",
       "    <tr>\n",
       "      <th>3</th>\n",
       "      <td>Misc activity</td>\n",
       "      <td>2021-09-27 12:00:00</td>\n",
       "      <td>382</td>\n",
       "    </tr>\n",
       "    <tr>\n",
       "      <th>4</th>\n",
       "      <td>Misc activity</td>\n",
       "      <td>2021-09-28 00:00:00</td>\n",
       "      <td>1487</td>\n",
       "    </tr>\n",
       "  </tbody>\n",
       "</table>\n",
       "</div>"
      ],
      "text/plain": [
       "  alert.category.keyword: Descending           Timestamp  Attacks\n",
       "0                      Misc activity 2021-09-26 00:00:00      211\n",
       "1                      Misc activity 2021-09-26 12:00:00      257\n",
       "2                      Misc activity 2021-09-27 00:00:00      291\n",
       "3                      Misc activity 2021-09-27 12:00:00      382\n",
       "4                      Misc activity 2021-09-28 00:00:00     1487"
      ]
     },
     "execution_count": 13,
     "metadata": {},
     "output_type": "execute_result"
    }
   ],
   "source": [
    "df = pd.read_csv(\"./data/Suricata Alert Category Histogram.csv\")\n",
    "df.Attacks = df.Attacks.str.replace(',', '').astype(int)\n",
    "df.Timestamp = pd.to_datetime(df.Timestamp)\n",
    "#df = df.sort_values(by=[\"alert\", \"Timestamp\"])\n",
    "df.head()"
   ]
  },
  {
   "cell_type": "code",
   "execution_count": 14,
   "metadata": {},
   "outputs": [
    {
     "data": {
      "image/png": "[encoded data removed]",
      "text/plain": [
       "<Figure size 1080x360 with 1 Axes>"
      ]
     },
     "metadata": {
      "needs_background": "light"
     },
     "output_type": "display_data"
    }
   ],
   "source": [
    "fig, ax = plt.subplots(figsize = (15,5))\n",
    "\n",
    "x_pos = [i for i, _ in enumerate(df.groupby(\"Timestamp\"))]\n",
    "\n",
    "bottoms=[]\n",
    "for idx, (k, d) in reversed(list(enumerate(df.groupby(\"alert.category.keyword: Descending\")))):\n",
    "    x = d[\"Timestamp\"]\n",
    "    y = d[\"Attacks\"]\n",
    "    \n",
    "    ax.xaxis.set_major_formatter(mdates.DateFormatter('%Y-%m-%d'))\n",
    "    ax.xaxis.set_major_locator(mdates.HourLocator(interval=12))\n",
    "    \n",
    "    if idx == 4:\n",
    "        ax.bar(x, y, 0.5, edgecolor='white',label=k)\n",
    "    else:\n",
    "        ax.bar(x, y, 0.5,bottom=bottoms[idx-3] ,edgecolor='white',label=k)\n",
    "    \n",
    "    bottoms.append(y.to_numpy())\n",
    "\n",
    "fig.autofmt_xdate()\n",
    "plt.ylabel(\"Number of Attacks\")\n",
    "plt.xlabel(\"Timestamp\")\n",
    "\n",
    "# Major ticks every 6 months.\n",
    "fmt_half_year = mdates.DayLocator(interval=4)\n",
    "ax.xaxis.set_major_locator(fmt_half_year)\n",
    "\n",
    "# Minor ticks every month.\n",
    "fmt_month = mdates.MonthLocator()\n",
    "ax.xaxis.set_minor_locator(fmt_month)\n",
    "\n",
    "# Round to nearest years.\n",
    "datemin = df.Timestamp.min()\n",
    "datemax = df.Timestamp.max()\n",
    "ax.set_xlim(datemin, datemax)\n",
    "\n",
    "# Put a legend to the right of the current axis\n",
    "legend = plt.legend(loc='center left', bbox_to_anchor=(0.8, 0.9), frameon = 1)\n",
    "frame = legend.get_frame()\n",
    "frame.set_facecolor('white')\n",
    "\n",
    "plt.xticks( rotation=25 )\n",
    "plt.gcf().subplots_adjust(left=0.35)\n",
    "plt.setp(plt.gca().get_xticklabels(), rotation=45, horizontalalignment='right')\n",
    "plt.savefig(\"tpot-suricata-alerts.pdf\", format=\"pdf\", bbox_inches=\"tight\", pad_inches=0)\n",
    "plt.show()"
   ]
  },
  {
   "cell_type": "markdown",
   "metadata": {},
   "source": [
    "## Honeytrap"
   ]
  },
  {
   "cell_type": "code",
   "execution_count": 15,
   "metadata": {},
   "outputs": [
    {
     "data": {
      "text/html": [
       "<div>\n",
       "<style scoped>\n",
       "    .dataframe tbody tr th:only-of-type {\n",
       "        vertical-align: middle;\n",
       "    }\n",
       "\n",
       "    .dataframe tbody tr th {\n",
       "        vertical-align: top;\n",
       "    }\n",
       "\n",
       "    .dataframe thead th {\n",
       "        text-align: right;\n",
       "    }\n",
       "</style>\n",
       "<table border=\"1\" class=\"dataframe\">\n",
       "  <thead>\n",
       "    <tr style=\"text-align: right;\">\n",
       "      <th></th>\n",
       "      <th>dest_port: Descending</th>\n",
       "      <th>Timestamp</th>\n",
       "      <th>Attacks</th>\n",
       "    </tr>\n",
       "  </thead>\n",
       "  <tbody>\n",
       "    <tr>\n",
       "      <th>0</th>\n",
       "      <td>5038</td>\n",
       "      <td>2021-09-27 12:00:00</td>\n",
       "      <td>21</td>\n",
       "    </tr>\n",
       "    <tr>\n",
       "      <th>1</th>\n",
       "      <td>5038</td>\n",
       "      <td>2021-09-28 12:00:00</td>\n",
       "      <td>2419</td>\n",
       "    </tr>\n",
       "    <tr>\n",
       "      <th>2</th>\n",
       "      <td>5038</td>\n",
       "      <td>2021-09-29 12:00:00</td>\n",
       "      <td>71</td>\n",
       "    </tr>\n",
       "    <tr>\n",
       "      <th>3</th>\n",
       "      <td>5038</td>\n",
       "      <td>2021-10-01 12:00:00</td>\n",
       "      <td>120</td>\n",
       "    </tr>\n",
       "    <tr>\n",
       "      <th>4</th>\n",
       "      <td>5038</td>\n",
       "      <td>2021-10-03 00:00:00</td>\n",
       "      <td>1567</td>\n",
       "    </tr>\n",
       "  </tbody>\n",
       "</table>\n",
       "</div>"
      ],
      "text/plain": [
       "   dest_port: Descending           Timestamp  Attacks\n",
       "0                   5038 2021-09-27 12:00:00       21\n",
       "1                   5038 2021-09-28 12:00:00     2419\n",
       "2                   5038 2021-09-29 12:00:00       71\n",
       "3                   5038 2021-10-01 12:00:00      120\n",
       "4                   5038 2021-10-03 00:00:00     1567"
      ]
     },
     "execution_count": 15,
     "metadata": {},
     "output_type": "execute_result"
    }
   ],
   "source": [
    "df = pd.read_csv(\"./data/Honeytrap - Attacks by Destination Ports Histogram.csv\")\n",
    "df.Attacks = df.Attacks.str.replace(',', '').astype(int)\n",
    "df.Timestamp = pd.to_datetime(df.Timestamp)\n",
    "df.head()"
   ]
  },
  {
   "cell_type": "code",
   "execution_count": 16,
   "metadata": {},
   "outputs": [
    {
     "data": {
      "image/png": "[encoded data removed]",
      "text/plain": [
       "<Figure size 576x360 with 1 Axes>"
      ]
     },
     "metadata": {
      "needs_background": "light"
     },
     "output_type": "display_data"
    }
   ],
   "source": [
    "fig, ax = plt.subplots(figsize = (8,5))\n",
    "\n",
    "for k, d in df.groupby('dest_port: Descending'):\n",
    "    x = d['Timestamp'].to_numpy()\n",
    "    y = d['Attacks'].to_numpy()\n",
    "    \n",
    "    ax.xaxis.set_major_formatter(mdates.DateFormatter('%Y-%m-%d'))\n",
    "    ax.xaxis.set_major_locator(mdates.DayLocator())\n",
    "    \n",
    "    ax.scatter(x,y, label=k)\n",
    "    \n",
    "    #ax.plot(x,y, label=k)\n",
    "    #ax.fill_between(x, y)\n",
    "\n",
    "\n",
    "fig.autofmt_xdate()\n",
    "ax.set_ylabel(\"Number of Attacks\")\n",
    "ax.set_xlabel(\"Timestamp\")\n",
    "\n",
    "# Major ticks every 6 months.\n",
    "fmt_half_year = mdates.DayLocator(interval=4)\n",
    "ax.xaxis.set_major_locator(fmt_half_year)\n",
    "\n",
    "# Minor ticks every month.\n",
    "fmt_month = mdates.MonthLocator()\n",
    "ax.xaxis.set_minor_locator(fmt_month)\n",
    "\n",
    "# Round to nearest years.\n",
    "datemin = df.Timestamp.min()\n",
    "datemax = df.Timestamp.max()\n",
    "ax.set_xlim(datemin, datemax)\n",
    "\n",
    "# Put a legend to the right of the current axis\n",
    "legend = plt.legend(loc='upper right',frameon = 1)\n",
    "frame = legend.get_frame()\n",
    "frame.set_facecolor('white')\n",
    "\n",
    "plt.xticks( rotation=25 )\n",
    "plt.gcf().subplots_adjust(left=0.15)\n",
    "plt.savefig(\"tpot-honeytrap-port.pdf\", format=\"pdf\", bbox_inches=\"tight\", pad_inches=0)\n",
    "plt.show()"
   ]
  },
  {
   "cell_type": "markdown",
   "metadata": {},
   "source": [
    "## Cowire"
   ]
  },
  {
   "cell_type": "code",
   "execution_count": 17,
   "metadata": {},
   "outputs": [
    {
     "data": {
      "text/html": [
       "<div>\n",
       "<style scoped>\n",
       "    .dataframe tbody tr th:only-of-type {\n",
       "        vertical-align: middle;\n",
       "    }\n",
       "\n",
       "    .dataframe tbody tr th {\n",
       "        vertical-align: top;\n",
       "    }\n",
       "\n",
       "    .dataframe thead th {\n",
       "        text-align: right;\n",
       "    }\n",
       "</style>\n",
       "<table border=\"1\" class=\"dataframe\">\n",
       "  <thead>\n",
       "    <tr style=\"text-align: right;\">\n",
       "      <th></th>\n",
       "      <th>dest_port: Descending</th>\n",
       "      <th>Timestamp</th>\n",
       "      <th>Attacks</th>\n",
       "    </tr>\n",
       "  </thead>\n",
       "  <tbody>\n",
       "    <tr>\n",
       "      <th>0</th>\n",
       "      <td>22</td>\n",
       "      <td>2021-09-26 00:00:00</td>\n",
       "      <td>357</td>\n",
       "    </tr>\n",
       "    <tr>\n",
       "      <th>1</th>\n",
       "      <td>22</td>\n",
       "      <td>2021-09-26 12:00:00</td>\n",
       "      <td>657</td>\n",
       "    </tr>\n",
       "    <tr>\n",
       "      <th>2</th>\n",
       "      <td>22</td>\n",
       "      <td>2021-09-27 00:00:00</td>\n",
       "      <td>837</td>\n",
       "    </tr>\n",
       "    <tr>\n",
       "      <th>3</th>\n",
       "      <td>22</td>\n",
       "      <td>2021-09-27 12:00:00</td>\n",
       "      <td>441</td>\n",
       "    </tr>\n",
       "    <tr>\n",
       "      <th>4</th>\n",
       "      <td>22</td>\n",
       "      <td>2021-09-28 00:00:00</td>\n",
       "      <td>667</td>\n",
       "    </tr>\n",
       "  </tbody>\n",
       "</table>\n",
       "</div>"
      ],
      "text/plain": [
       "   dest_port: Descending           Timestamp  Attacks\n",
       "0                     22 2021-09-26 00:00:00      357\n",
       "1                     22 2021-09-26 12:00:00      657\n",
       "2                     22 2021-09-27 00:00:00      837\n",
       "3                     22 2021-09-27 12:00:00      441\n",
       "4                     22 2021-09-28 00:00:00      667"
      ]
     },
     "execution_count": 17,
     "metadata": {},
     "output_type": "execute_result"
    }
   ],
   "source": [
    "df = pd.read_csv(\"./data/Cowrie - Attacks by Destination Ports Histogram.csv\")\n",
    "df.Timestamp = pd.to_datetime(df.Timestamp)\n",
    "df.head()"
   ]
  },
  {
   "cell_type": "code",
   "execution_count": 18,
   "metadata": {},
   "outputs": [
    {
     "data": {
      "image/png": "[encoded data removed]",
      "text/plain": [
       "<Figure size 576x360 with 1 Axes>"
      ]
     },
     "metadata": {
      "needs_background": "light"
     },
     "output_type": "display_data"
    }
   ],
   "source": [
    "fig, ax = plt.subplots(figsize = (8,5))\n",
    "\n",
    "for k, d in df.groupby('dest_port: Descending'):\n",
    "    x = d['Timestamp'].to_numpy()\n",
    "    y = d['Attacks'].to_numpy()\n",
    "    \n",
    "    ax.xaxis.set_major_formatter(mdates.DateFormatter('%Y-%m-%d'))\n",
    "    ax.xaxis.set_major_locator(mdates.DayLocator())\n",
    "    \n",
    "    #ax.scatter(x,y)\n",
    "    ax.plot(x,y, label=k)\n",
    "    ax.fill_between(x, y)\n",
    "\n",
    "\n",
    "fig.autofmt_xdate()\n",
    "ax.set_ylabel(\"Number of Attacks\")\n",
    "ax.set_xlabel(\"Timestamp\")\n",
    "\n",
    "# Major ticks every 6 months.\n",
    "fmt_half_year = mdates.DayLocator(interval=4)\n",
    "ax.xaxis.set_major_locator(fmt_half_year)\n",
    "\n",
    "# Minor ticks every month.\n",
    "fmt_month = mdates.MonthLocator()\n",
    "ax.xaxis.set_minor_locator(fmt_month)\n",
    "\n",
    "# Round to nearest years.\n",
    "datemin = df.Timestamp.min()\n",
    "datemax = df.Timestamp.max()\n",
    "ax.set_xlim(datemin, datemax)\n",
    "\n",
    "# Put a legend to the right of the current axis\n",
    "legend = plt.legend(loc='upper right',frameon = 1)\n",
    "frame = legend.get_frame()\n",
    "frame.set_facecolor('white')\n",
    "\n",
    "plt.xticks( rotation=25 )\n",
    "plt.gcf().subplots_adjust(left=0.15)\n",
    "plt.savefig(\"tpot-cowrie-port.pdf\", format=\"pdf\", bbox_inches=\"tight\", pad_inches=0)\n",
    "plt.show()"
   ]
  },
  {
   "cell_type": "code",
   "execution_count": 19,
   "metadata": {},
   "outputs": [
    {
     "data": {
      "text/html": [
       "<div>\n",
       "<style scoped>\n",
       "    .dataframe tbody tr th:only-of-type {\n",
       "        vertical-align: middle;\n",
       "    }\n",
       "\n",
       "    .dataframe tbody tr th {\n",
       "        vertical-align: top;\n",
       "    }\n",
       "\n",
       "    .dataframe thead th {\n",
       "        text-align: right;\n",
       "    }\n",
       "</style>\n",
       "<table border=\"1\" class=\"dataframe\">\n",
       "  <thead>\n",
       "    <tr style=\"text-align: right;\">\n",
       "      <th></th>\n",
       "      <th>password.keyword: Descending</th>\n",
       "      <th>Count</th>\n",
       "    </tr>\n",
       "  </thead>\n",
       "  <tbody>\n",
       "    <tr>\n",
       "      <th>0</th>\n",
       "      <td>1</td>\n",
       "      <td>851</td>\n",
       "    </tr>\n",
       "    <tr>\n",
       "      <th>1</th>\n",
       "      <td>123456</td>\n",
       "      <td>597</td>\n",
       "    </tr>\n",
       "    <tr>\n",
       "      <th>2</th>\n",
       "      <td>1234</td>\n",
       "      <td>272</td>\n",
       "    </tr>\n",
       "    <tr>\n",
       "      <th>3</th>\n",
       "      <td>!ishtar</td>\n",
       "      <td>229</td>\n",
       "    </tr>\n",
       "    <tr>\n",
       "      <th>4</th>\n",
       "      <td>x</td>\n",
       "      <td>227</td>\n",
       "    </tr>\n",
       "  </tbody>\n",
       "</table>\n",
       "</div>"
      ],
      "text/plain": [
       "  password.keyword: Descending  Count\n",
       "0                            1    851\n",
       "1                       123456    597\n",
       "2                         1234    272\n",
       "3                      !ishtar    229\n",
       "4                            x    227"
      ]
     },
     "execution_count": 19,
     "metadata": {},
     "output_type": "execute_result"
    }
   ],
   "source": [
    "df = pd.read_csv(\"./data/Cowrie Password Tagcloud.csv\")\n",
    "df.head()"
   ]
  },
  {
   "cell_type": "code",
   "execution_count": 20,
   "metadata": {},
   "outputs": [
    {
     "data": {
      "image/png": "[encoded data removed]",
      "text/plain": [
       "<Figure size 432x288 with 1 Axes>"
      ]
     },
     "metadata": {
      "needs_background": "light"
     },
     "output_type": "display_data"
    }
   ],
   "source": [
    "x = df.head(10)['password.keyword: Descending'].to_numpy()\n",
    "y = df.head(10)['Count'].to_numpy()\n",
    "\n",
    "x_pos = [i for i, _ in enumerate(x)]\n",
    "\n",
    "plt.bar(x_pos, y)\n",
    "\n",
    "plt.ylabel(\"Number of Usage\")\n",
    "plt.xlabel(\"Password\")\n",
    "\n",
    "plt.gcf().subplots_adjust(bottom=0.30, left=0.15)\n",
    "plt.xticks(x_pos, x)\n",
    "plt.setp(plt.gca().get_xticklabels(), rotation=45, horizontalalignment='right')\n",
    "plt.savefig(\"tpot-cowrie-password.pdf\", format=\"pdf\")\n",
    "\n",
    "plt.show()"
   ]
  },
  {
   "cell_type": "code",
   "execution_count": 21,
   "metadata": {},
   "outputs": [
    {
     "data": {
      "text/html": [
       "<div>\n",
       "<style scoped>\n",
       "    .dataframe tbody tr th:only-of-type {\n",
       "        vertical-align: middle;\n",
       "    }\n",
       "\n",
       "    .dataframe tbody tr th {\n",
       "        vertical-align: top;\n",
       "    }\n",
       "\n",
       "    .dataframe thead th {\n",
       "        text-align: right;\n",
       "    }\n",
       "</style>\n",
       "<table border=\"1\" class=\"dataframe\">\n",
       "  <thead>\n",
       "    <tr style=\"text-align: right;\">\n",
       "      <th></th>\n",
       "      <th>username.keyword: Descending</th>\n",
       "      <th>Count</th>\n",
       "    </tr>\n",
       "  </thead>\n",
       "  <tbody>\n",
       "    <tr>\n",
       "      <th>0</th>\n",
       "      <td>root</td>\n",
       "      <td>7299</td>\n",
       "    </tr>\n",
       "    <tr>\n",
       "      <th>1</th>\n",
       "      <td>user</td>\n",
       "      <td>2037</td>\n",
       "    </tr>\n",
       "    <tr>\n",
       "      <th>2</th>\n",
       "      <td>admin</td>\n",
       "      <td>318</td>\n",
       "    </tr>\n",
       "    <tr>\n",
       "      <th>3</th>\n",
       "      <td>!root</td>\n",
       "      <td>229</td>\n",
       "    </tr>\n",
       "    <tr>\n",
       "      <th>4</th>\n",
       "      <td>blank</td>\n",
       "      <td>217</td>\n",
       "    </tr>\n",
       "  </tbody>\n",
       "</table>\n",
       "</div>"
      ],
      "text/plain": [
       "  username.keyword: Descending  Count\n",
       "0                         root   7299\n",
       "1                         user   2037\n",
       "2                        admin    318\n",
       "3                        !root    229\n",
       "4                        blank    217"
      ]
     },
     "execution_count": 21,
     "metadata": {},
     "output_type": "execute_result"
    }
   ],
   "source": [
    "df = pd.read_csv(\"./data/Cowrie Username Tagcloud.csv\")\n",
    "# df.Count = df.Count.str.replace(',', '').astype(int)\n",
    "df.head()"
   ]
  },
  {
   "cell_type": "code",
   "execution_count": 22,
   "metadata": {},
   "outputs": [
    {
     "data": {
      "image/png": "[encoded data removed]",
      "text/plain": [
       "<Figure size 432x288 with 1 Axes>"
      ]
     },
     "metadata": {
      "needs_background": "light"
     },
     "output_type": "display_data"
    }
   ],
   "source": [
    "x = df.head(10)['username.keyword: Descending'].to_numpy()\n",
    "y = df.head(10)['Count'].to_numpy()\n",
    "\n",
    "x_pos = [i for i, _ in enumerate(x)]\n",
    "\n",
    "plt.bar(x_pos, y)\n",
    "\n",
    "plt.ylabel(\"Number of Usage\")\n",
    "plt.xlabel(\"Username\")\n",
    "\n",
    "plt.gcf().subplots_adjust(bottom=0.30, left=0.15)\n",
    "plt.xticks(x_pos, x)\n",
    "plt.setp(plt.gca().get_xticklabels(), rotation=45, horizontalalignment='right')\n",
    "plt.savefig(\"tpot-cowrie-username.pdf\", format=\"pdf\")\n",
    "\n",
    "plt.show()"
   ]
  },
  {
   "cell_type": "code",
   "execution_count": 4,
   "metadata": {},
   "outputs": [
    {
     "data": {
      "text/html": [
       "<div>\n",
       "<style scoped>\n",
       "    .dataframe tbody tr th:only-of-type {\n",
       "        vertical-align: middle;\n",
       "    }\n",
       "\n",
       "    .dataframe tbody tr th {\n",
       "        vertical-align: top;\n",
       "    }\n",
       "\n",
       "    .dataframe thead th {\n",
       "        text-align: right;\n",
       "    }\n",
       "</style>\n",
       "<table border=\"1\" class=\"dataframe\">\n",
       "  <thead>\n",
       "    <tr style=\"text-align: right;\">\n",
       "      <th></th>\n",
       "      <th>Timestamp</th>\n",
       "      <th>Number</th>\n",
       "      <th>Version</th>\n",
       "    </tr>\n",
       "  </thead>\n",
       "  <tbody>\n",
       "    <tr>\n",
       "      <th>0</th>\n",
       "      <td>2015-06-08</td>\n",
       "      <td>23</td>\n",
       "      <td>v1.0.0-alpha</td>\n",
       "    </tr>\n",
       "    <tr>\n",
       "      <th>1</th>\n",
       "      <td>2016-06-11</td>\n",
       "      <td>30</td>\n",
       "      <td>v1.1.0</td>\n",
       "    </tr>\n",
       "    <tr>\n",
       "      <th>2</th>\n",
       "      <td>2017-06-28</td>\n",
       "      <td>34</td>\n",
       "      <td>v1.2.0</td>\n",
       "    </tr>\n",
       "    <tr>\n",
       "      <th>3</th>\n",
       "      <td>2018-04-15</td>\n",
       "      <td>35</td>\n",
       "      <td>v1.3.0</td>\n",
       "    </tr>\n",
       "    <tr>\n",
       "      <th>4</th>\n",
       "      <td>2018-07-23</td>\n",
       "      <td>37</td>\n",
       "      <td>v1.4.0</td>\n",
       "    </tr>\n",
       "  </tbody>\n",
       "</table>\n",
       "</div>"
      ],
      "text/plain": [
       "   Timestamp  Number       Version\n",
       "0 2015-06-08      23  v1.0.0-alpha\n",
       "1 2016-06-11      30        v1.1.0\n",
       "2 2017-06-28      34        v1.2.0\n",
       "3 2018-04-15      35        v1.3.0\n",
       "4 2018-07-23      37        v1.4.0"
      ]
     },
     "execution_count": 4,
     "metadata": {},
     "output_type": "execute_result"
    }
   ],
   "source": [
    "df = pd.read_csv(\"./data/cowrie-cmd.txt\")\n",
    "df.Timestamp = pd.to_datetime(df.Timestamp)\n",
    "df = df.sort_values(by=\"Timestamp\")\n",
    "df.head()"
   ]
  },
  {
   "cell_type": "code",
   "execution_count": 10,
   "metadata": {},
   "outputs": [
    {
     "name": "stdout",
     "output_type": "stream",
     "text": [
      "['2015-06-08T00:00:00.000000000' '2016-06-11T00:00:00.000000000'\n",
      " '2017-06-28T00:00:00.000000000' '2018-04-15T00:00:00.000000000'\n",
      " '2018-07-23T00:00:00.000000000' '2019-05-11T00:00:00.000000000'\n",
      " '2019-10-30T00:00:00.000000000' '2019-10-31T00:00:00.000000000'\n",
      " '2019-12-09T00:00:00.000000000' '2020-04-30T00:00:00.000000000'\n",
      " '2020-10-11T00:00:00.000000000' '2021-10-17T00:00:00.000000000'] [23 30 34 35 37 41 41 41 41 43 46 46]\n"
     ]
    },
    {
     "data": {
      "image/png": "[encoded data removed]",
      "text/plain": [
       "<Figure size 576x360 with 1 Axes>"
      ]
     },
     "metadata": {},
     "output_type": "display_data"
    }
   ],
   "source": [
    "from adjustText import adjust_text\n",
    "fig, ax = plt.subplots(figsize = (8,5))\n",
    "\n",
    "#for k, d in df.groupby('Version'):\n",
    "x = df['Timestamp'].to_numpy()\n",
    "y = df['Number'].to_numpy()\n",
    "z = df['Version'].to_numpy()\n",
    "    \n",
    "ax.xaxis.set_major_formatter(mdates.DateFormatter('%Y-%m-%d'))\n",
    "ax.xaxis.set_major_locator(mdates.MonthLocator())\n",
    "    \n",
    "texts = []\n",
    "ax.plot(x,y, label=\"Cowrie\")\n",
    "for i,j,k in zip(x,y,z):\n",
    "    texts.append(ax.annotate(k, xy=(i, j), xytext=(i,j+.4), arrowprops={'arrowstyle' : 'simple', 'shrinkB' : 5}))\n",
    "    #ax.plot(x,y, label=k)\n",
    "    #ax.fill_between(x, y)\n",
    "print(x,y)\n",
    "\n",
    "fig.autofmt_xdate()\n",
    "ax.set_ylabel(\"Number of Commands\")\n",
    "ax.set_xlabel(\"Timestamp\")\n",
    "\n",
    "# Major ticks every 6 months.\n",
    "fmt_half_year = mdates.MonthLocator(interval=12)\n",
    "ax.xaxis.set_major_locator(fmt_half_year)\n",
    "\n",
    "# Minor ticks every month.\n",
    "fmt_month = mdates.MonthLocator(interval=3)\n",
    "ax.xaxis.set_minor_locator(fmt_month)\n",
    "\n",
    "# Round to nearest years.\n",
    "datemin = df.Timestamp.min()\n",
    "datemax = df.Timestamp.max()\n",
    "ax.set_xlim(datemin, datemax)\n",
    "\n",
    "# Put a legend to the right of the current axis\n",
    "legend = plt.legend(loc='center left', bbox_to_anchor=(1.0, 0.85), frameon = 1)\n",
    "frame = legend.get_frame()\n",
    "frame.set_facecolor('white')\n",
    "\n",
    "adjust_text(texts)\n",
    "\n",
    "plt.xticks( rotation=25 )\n",
    "plt.gcf().subplots_adjust(left=0.15)\n",
    "plt.setp(plt.gca().get_xticklabels(), rotation=45, horizontalalignment='right')\n",
    "plt.savefig(\"cowrie-cmd.pdf\", format=\"pdf\", bbox_inches=\"tight\", pad_inches=0)\n",
    "plt.show()"
   ]
  },
  {
   "cell_type": "markdown",
   "metadata": {},
   "source": [
    "## RDPY"
   ]
  },
  {
   "cell_type": "code",
   "execution_count": 23,
   "metadata": {},
   "outputs": [
    {
     "data": {
      "text/html": [
       "<div>\n",
       "<style scoped>\n",
       "    .dataframe tbody tr th:only-of-type {\n",
       "        vertical-align: middle;\n",
       "    }\n",
       "\n",
       "    .dataframe tbody tr th {\n",
       "        vertical-align: top;\n",
       "    }\n",
       "\n",
       "    .dataframe thead th {\n",
       "        text-align: right;\n",
       "    }\n",
       "</style>\n",
       "<table border=\"1\" class=\"dataframe\">\n",
       "  <thead>\n",
       "    <tr style=\"text-align: right;\">\n",
       "      <th></th>\n",
       "      <th>Timestamp</th>\n",
       "      <th>Attacks</th>\n",
       "      <th>Unique Src IPs</th>\n",
       "    </tr>\n",
       "  </thead>\n",
       "  <tbody>\n",
       "    <tr>\n",
       "      <th>0</th>\n",
       "      <td>2021-09-27 12:00:00</td>\n",
       "      <td>24</td>\n",
       "      <td>10</td>\n",
       "    </tr>\n",
       "    <tr>\n",
       "      <th>1</th>\n",
       "      <td>2021-09-28 00:00:00</td>\n",
       "      <td>261</td>\n",
       "      <td>47</td>\n",
       "    </tr>\n",
       "    <tr>\n",
       "      <th>2</th>\n",
       "      <td>2021-09-28 12:00:00</td>\n",
       "      <td>34474</td>\n",
       "      <td>39</td>\n",
       "    </tr>\n",
       "    <tr>\n",
       "      <th>3</th>\n",
       "      <td>2021-09-29 00:00:00</td>\n",
       "      <td>3153</td>\n",
       "      <td>29</td>\n",
       "    </tr>\n",
       "    <tr>\n",
       "      <th>4</th>\n",
       "      <td>2021-09-29 12:00:00</td>\n",
       "      <td>7640</td>\n",
       "      <td>28</td>\n",
       "    </tr>\n",
       "  </tbody>\n",
       "</table>\n",
       "</div>"
      ],
      "text/plain": [
       "            Timestamp  Attacks  Unique Src IPs\n",
       "0 2021-09-27 12:00:00       24              10\n",
       "1 2021-09-28 00:00:00      261              47\n",
       "2 2021-09-28 12:00:00    34474              39\n",
       "3 2021-09-29 00:00:00     3153              29\n",
       "4 2021-09-29 12:00:00     7640              28"
      ]
     },
     "execution_count": 23,
     "metadata": {},
     "output_type": "execute_result"
    }
   ],
   "source": [
    "df = pd.read_csv(\"./data/Rdpy Attacks Histogram.csv\")\n",
    "df.Attacks = df.Attacks.str.replace(',', '').astype(int)\n",
    "df.Timestamp = pd.to_datetime(df.Timestamp)\n",
    "df.head()"
   ]
  },
  {
   "cell_type": "code",
   "execution_count": 24,
   "metadata": {},
   "outputs": [
    {
     "data": {
      "image/png": "[encoded data removed]",
      "text/plain": [
       "<Figure size 576x360 with 1 Axes>"
      ]
     },
     "metadata": {
      "needs_background": "light"
     },
     "output_type": "display_data"
    }
   ],
   "source": [
    "fig, ax = plt.subplots(figsize = (8,5))\n",
    "\n",
    "\n",
    "x = df['Timestamp'].to_numpy()\n",
    "y = df['Attacks'].to_numpy()\n",
    "\n",
    "ax.xaxis.set_major_formatter(mdates.DateFormatter('%Y-%m-%d'))\n",
    "ax.xaxis.set_major_locator(mdates.DayLocator())\n",
    "\n",
    "#ax.scatter(x,y)\n",
    "ax.plot(x,y, label=\"Attacks\")\n",
    "ax.fill_between(x, y)\n",
    "\n",
    "x = df['Timestamp'].to_numpy()\n",
    "y = df['Unique Src IPs'].to_numpy()\n",
    "\n",
    "ax.xaxis.set_major_formatter(mdates.DateFormatter('%Y-%m-%d'))\n",
    "ax.xaxis.set_major_locator(mdates.DayLocator())\n",
    "\n",
    "#ax.scatter(x,y)\n",
    "ax.plot(x,y, label=\"Unique Src IPs\")\n",
    "ax.fill_between(x, y)\n",
    "\n",
    "fig.autofmt_xdate()\n",
    "ax.set_ylabel(\"Number of Attacks\")\n",
    "ax.set_xlabel(\"Timestamp\")\n",
    "\n",
    "# Major ticks every 6 months.\n",
    "fmt_half_year = mdates.DayLocator(interval=4)\n",
    "ax.xaxis.set_major_locator(fmt_half_year)\n",
    "\n",
    "# Minor ticks every month.\n",
    "fmt_month = mdates.MonthLocator()\n",
    "ax.xaxis.set_minor_locator(fmt_month)\n",
    "\n",
    "# Round to nearest years.\n",
    "datemin = df.Timestamp.min()\n",
    "datemax = df.Timestamp.max()\n",
    "ax.set_xlim(datemin, datemax)\n",
    "\n",
    "# Put a legend to the right of the current axis\n",
    "legend = plt.legend(loc='upper right',frameon = 1)\n",
    "frame = legend.get_frame()\n",
    "frame.set_facecolor('white')\n",
    "\n",
    "plt.xticks( rotation=25 )\n",
    "plt.gcf().subplots_adjust(left=0.15)\n",
    "plt.savefig(\"tpot-rdpy-port.pdf\", format=\"pdf\", bbox_inches=\"tight\", pad_inches=0)\n",
    "plt.show()"
   ]
  },
  {
   "cell_type": "markdown",
   "metadata": {},
   "source": [
    "# Fingerprinting Honeypots"
   ]
  },
  {
   "cell_type": "markdown",
   "metadata": {},
   "source": [
    "## Cosine Simularity"
   ]
  },
  {
   "cell_type": "code",
   "execution_count": 15,
   "metadata": {},
   "outputs": [
    {
     "name": "stdout",
     "output_type": "stream",
     "text": [
      "Cosine: 0.45883146774112343\n"
     ]
    }
   ],
   "source": [
    "import math\n",
    "import re\n",
    "from collections import Counter\n",
    "\n",
    "WORD = re.compile(r\"\\w+\")\n",
    "\n",
    "\n",
    "def get_cosine(vec1, vec2):\n",
    "    intersection = set(vec1.keys()) & set(vec2.keys())\n",
    "    numerator = sum([vec1[x] * vec2[x] for x in intersection])\n",
    "\n",
    "    sum1 = sum([vec1[x] ** 2 for x in list(vec1.keys())])\n",
    "    sum2 = sum([vec2[x] ** 2 for x in list(vec2.keys())])\n",
    "    denominator = math.sqrt(sum1) * math.sqrt(sum2)\n",
    "\n",
    "    if not denominator:\n",
    "        return 0.0\n",
    "    else:\n",
    "        return float(numerator) / denominator\n",
    "\n",
    "\n",
    "def text_to_vector(text):\n",
    "    words = WORD.findall(text)\n",
    "    return Counter(words)\n",
    "\n",
    "\n",
    "text1 = \"\"\"\n",
    "root@127.0.0.1's password:\\n\n",
    "\"\"\"\n",
    "\n",
    "text2 = \"\"\"\n",
    "Bad packet length 1349676916.\\n\n",
    "ssh_dispatch_run_fatal: Connection to 127.0.0.1 port 65522: message authentication code incorrect\\n\n",
    "\"\"\"\n",
    "\n",
    "vector1 = text_to_vector(text1)\n",
    "vector2 = text_to_vector(text2)\n",
    "\n",
    "cosine = get_cosine(vector1, vector2)\n",
    "\n",
    "print(\"Cosine:\", cosine)"
   ]
  },
  {
   "cell_type": "code",
   "execution_count": 5,
   "metadata": {},
   "outputs": [],
   "source": [
    "import math\n",
    "import numpy as np\n",
    "\n",
    "std_embeddings_index = {}\n",
    "with open('data/numberbatch-en.txt') as f:\n",
    "    for line in f:\n",
    "        values = line.split(' ')\n",
    "        word = values[0]\n",
    "        embedding = np.asarray(values[1:], dtype='float32')\n",
    "        std_embeddings_index[word] = embedding\n",
    "\n",
    "def cosineValue(v1,v2):\n",
    "    \"compute cosine similarity of v1 to v2: (v1 dot v2)/{||v1||*||v2||)\"\n",
    "    sumxx, sumxy, sumyy = 0, 0, 0\n",
    "    for i in range(len(v1)):\n",
    "        x = v1[i]; y = v2[i]\n",
    "        sumxx += x*x\n",
    "        sumyy += y*y\n",
    "        sumxy += x*y\n",
    "    return sumxy/math.sqrt(sumxx*sumyy)\n",
    "\n",
    "\n",
    "def get_sentence_vector(sentence, std_embeddings_index = std_embeddings_index ):\n",
    "    sent_vector = 0\n",
    "    for word in sentence.lower().split():\n",
    "        if word not in std_embeddings_index :\n",
    "            word_vector = np.array(np.random.uniform(-1.0, 1.0, 300))\n",
    "            std_embeddings_index[word] = word_vector\n",
    "        else:\n",
    "            word_vector = std_embeddings_index[word]\n",
    "        sent_vector = sent_vector + word_vector\n",
    "\n",
    "    return sent_vector\n",
    "\n",
    "def cosine_sim(sent1, sent2):\n",
    "    return cosineValue(get_sentence_vector(sent1), get_sentence_vector(sent2))"
   ]
  },
  {
   "cell_type": "code",
   "execution_count": 9,
   "metadata": {},
   "outputs": [
    {
     "name": "stdout",
     "output_type": "stream",
     "text": [
      "0.01777983693768669\n"
     ]
    }
   ],
   "source": [
    "text1 = \"\"\"\n",
    "The authenticity of host '127.0.0.1 (127.0.0.1)' can't be established.\\n\n",
    "ED25519 key fingerprint is SHA256:y9LeDbIlEePuWlnog3rZh0QuMnlKZ1bvky6z/nM2Okk.\\n\n",
    "This key is not known by any other names\\n\n",
    "Are you sure you want to continue connecting (yes/no/[fingerprint])?\\n\n",
    "\"\"\"\n",
    "\n",
    "text2 = \"\"\"\n",
    "Bad packet length 1349676916.\\n\n",
    "ssh_dispatch_run_fatal: Connection to 127.0.0.1 port 65522: message authentication code incorrect\\n\n",
    "\"\"\"\n",
    "\n",
    "print(cosine_sim(text1, text2))"
   ]
  },
  {
   "cell_type": "markdown",
   "metadata": {},
   "source": [
    "## Cosine with Sklearn"
   ]
  },
  {
   "cell_type": "code",
   "execution_count": 4,
   "metadata": {},
   "outputs": [],
   "source": [
    "# Define the documents\n",
    "text1 = \"\"\"\n",
    "root@127.0.0.1's password:\\n\n",
    "\"\"\"\n",
    "\n",
    "text2 = \"\"\"\n",
    "Bad packet length 1349676916.\\n\n",
    "ssh_dispatch_run_fatal: Connection to 127.0.0.1 port 65522: message authentication code incorrect\\n\n",
    "\"\"\"\n",
    "\n",
    "documents = [text1, text2]"
   ]
  },
  {
   "cell_type": "code",
   "execution_count": 6,
   "metadata": {},
   "outputs": [
    {
     "data": {
      "text/html": [
       "<div>\n",
       "<style scoped>\n",
       "    .dataframe tbody tr th:only-of-type {\n",
       "        vertical-align: middle;\n",
       "    }\n",
       "\n",
       "    .dataframe tbody tr th {\n",
       "        vertical-align: top;\n",
       "    }\n",
       "\n",
       "    .dataframe thead th {\n",
       "        text-align: right;\n",
       "    }\n",
       "</style>\n",
       "<table border=\"1\" class=\"dataframe\">\n",
       "  <thead>\n",
       "    <tr style=\"text-align: right;\">\n",
       "      <th></th>\n",
       "      <th>127</th>\n",
       "      <th>1349676916</th>\n",
       "      <th>65522</th>\n",
       "      <th>authentication</th>\n",
       "      <th>bad</th>\n",
       "      <th>code</th>\n",
       "      <th>connection</th>\n",
       "      <th>incorrect</th>\n",
       "      <th>length</th>\n",
       "      <th>message</th>\n",
       "      <th>packet</th>\n",
       "      <th>password</th>\n",
       "      <th>port</th>\n",
       "      <th>root</th>\n",
       "      <th>ssh_dispatch_run_fatal</th>\n",
       "      <th>to</th>\n",
       "    </tr>\n",
       "  </thead>\n",
       "  <tbody>\n",
       "    <tr>\n",
       "      <th>text1</th>\n",
       "      <td>1</td>\n",
       "      <td>0</td>\n",
       "      <td>0</td>\n",
       "      <td>0</td>\n",
       "      <td>0</td>\n",
       "      <td>0</td>\n",
       "      <td>0</td>\n",
       "      <td>0</td>\n",
       "      <td>0</td>\n",
       "      <td>0</td>\n",
       "      <td>0</td>\n",
       "      <td>1</td>\n",
       "      <td>0</td>\n",
       "      <td>1</td>\n",
       "      <td>0</td>\n",
       "      <td>0</td>\n",
       "    </tr>\n",
       "    <tr>\n",
       "      <th>text2</th>\n",
       "      <td>1</td>\n",
       "      <td>1</td>\n",
       "      <td>1</td>\n",
       "      <td>1</td>\n",
       "      <td>1</td>\n",
       "      <td>1</td>\n",
       "      <td>1</td>\n",
       "      <td>1</td>\n",
       "      <td>1</td>\n",
       "      <td>1</td>\n",
       "      <td>1</td>\n",
       "      <td>0</td>\n",
       "      <td>1</td>\n",
       "      <td>0</td>\n",
       "      <td>1</td>\n",
       "      <td>1</td>\n",
       "    </tr>\n",
       "  </tbody>\n",
       "</table>\n",
       "</div>"
      ],
      "text/plain": [
       "       127  1349676916  65522  authentication  bad  code  connection  \\\n",
       "text1    1           0      0               0    0     0           0   \n",
       "text2    1           1      1               1    1     1           1   \n",
       "\n",
       "       incorrect  length  message  packet  password  port  root  \\\n",
       "text1          0       0        0       0         1     0     1   \n",
       "text2          1       1        1       1         0     1     0   \n",
       "\n",
       "       ssh_dispatch_run_fatal  to  \n",
       "text1                       0   0  \n",
       "text2                       1   1  "
      ]
     },
     "execution_count": 6,
     "metadata": {},
     "output_type": "execute_result"
    }
   ],
   "source": [
    "# Scikit Learn\n",
    "from sklearn.feature_extraction.text import CountVectorizer\n",
    "import pandas as pd\n",
    "\n",
    "# Create the Document Term Matrix\n",
    "count_vectorizer = CountVectorizer(stop_words='english')\n",
    "count_vectorizer = CountVectorizer()\n",
    "sparse_matrix = count_vectorizer.fit_transform(documents)\n",
    "\n",
    "# OPTIONAL: Convert Sparse Matrix to Pandas Dataframe if you want to see the word frequencies.\n",
    "doc_term_matrix = sparse_matrix.todense()\n",
    "df = pd.DataFrame(doc_term_matrix, \n",
    "                  columns=count_vectorizer.get_feature_names(), \n",
    "                  index=['text1', 'text2'])\n",
    "df"
   ]
  },
  {
   "cell_type": "code",
   "execution_count": 7,
   "metadata": {},
   "outputs": [
    {
     "name": "stdout",
     "output_type": "stream",
     "text": [
      "[[1.         0.15430335]\n",
      " [0.15430335 1.        ]]\n"
     ]
    }
   ],
   "source": [
    "from sklearn.metrics.pairwise import cosine_similarity\n",
    "print(cosine_similarity(df, df))"
   ]
  },
  {
   "cell_type": "markdown",
   "metadata": {},
   "source": [
    "## Soft Cosine Similarity"
   ]
  },
  {
   "cell_type": "code",
   "execution_count": 27,
   "metadata": {},
   "outputs": [],
   "source": [
    "# Define the documents\n",
    "text1 = 'root@127.0.0.1\\'s password:\\n'.split()\n",
    "\n",
    "text2 = 'Bad packet length 1349676916.\\nssh_dispatch_run_fatal: Connection to 127.0.0.1 port 65522: message authentication code incorrect\\n'.split()\n",
    "#text2 = 'stefan@127.0.0.1\\'s password:\\n'.split()\n",
    "\n",
    "\n",
    "documents = [text1, text2]"
   ]
  },
  {
   "cell_type": "code",
   "execution_count": 9,
   "metadata": {},
   "outputs": [
    {
     "name": "stdout",
     "output_type": "stream",
     "text": [
      "4.1.2\n"
     ]
    }
   ],
   "source": [
    "import gensim\n",
    "# upgrade gensim if you can't import softcossim\n",
    "#from gensim.matutils import softcossim \n",
    "import gensim.downloader as api\n",
    "from gensim.utils import simple_preprocess\n",
    "from gensim import corpora\n",
    "print(gensim.__version__)\n",
    "#> '3.6.0'\n",
    "# Download the FastText model\n",
    "fasttext_model300 = api.load('fasttext-wiki-news-subwords-300')"
   ]
  },
  {
   "cell_type": "code",
   "execution_count": 28,
   "metadata": {},
   "outputs": [
    {
     "name": "stdout",
     "output_type": "stream",
     "text": [
      "0.0\n"
     ]
    }
   ],
   "source": [
    "from gensim.similarities import SparseTermSimilarityMatrix, WordEmbeddingSimilarityIndex\n",
    "# Prepare a dictionary and a corpus.\n",
    "dictionary = corpora.Dictionary(documents)\n",
    "\n",
    "# Prepare the similarity matrix\n",
    "similarity_index = WordEmbeddingSimilarityIndex(fasttext_model300)\n",
    "similarity_matrix = SparseTermSimilarityMatrix(similarity_index, dictionary)\n",
    "\n",
    "# Convert the sentences into bag-of-words vectors.\n",
    "text1 = dictionary.doc2bow(text1)\n",
    "text2 = dictionary.doc2bow(text2)\n",
    "\n",
    "# Compute soft cosine similarity\n",
    "print(similarity_matrix.inner_product(text1, text2,  normalized=(True, False)))"
   ]
  },
  {
   "cell_type": "code",
   "execution_count": null,
   "metadata": {},
   "outputs": [],
   "source": []
  }
 ],
 "metadata": {
  "interpreter": {
   "hash": "520e995520d0f28b9f1e7cacfd9ba1493aa60b57e5f0cc1543205df7dd9220a2"
  },
  "kernelspec": {
   "display_name": "Python 3 (ipykernel)",
   "language": "python",
   "name": "python3"
  },
  "language_info": {
   "codemirror_mode": {
    "name": "ipython",
    "version": 3
   },
   "file_extension": ".py",
   "mimetype": "text/x-python",
   "name": "python",
   "nbconvert_exporter": "python",
   "pygments_lexer": "ipython3",
   "version": "3.9.6"
  }
 },
 "nbformat": 4,
 "nbformat_minor": 2
}
